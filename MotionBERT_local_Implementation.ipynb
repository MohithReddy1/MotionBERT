{
 "cells": [
  {
   "cell_type": "markdown",
   "metadata": {},
   "source": [
    "# MotionBERT: A Unified Perspective on Learning Human Motion Representations"
   ]
  },
  {
   "cell_type": "markdown",
   "metadata": {},
   "source": [
    "## Local Implementation"
   ]
  },
  {
   "cell_type": "markdown",
   "metadata": {},
   "source": [
    "### Installation of Required Packages and Dependencies"
   ]
  },
  {
   "cell_type": "code",
   "execution_count": 1,
   "metadata": {},
   "outputs": [
    {
     "name": "stdout",
     "output_type": "stream",
     "text": [
      "Looking in indexes: https://download.pytorch.org/whl/cu121\n",
      "Requirement already satisfied: torch==2.1.0 in c:\\users\\impha\\anaconda3\\envs\\motionbert-mmpose\\lib\\site-packages (2.1.0+cu121)\n",
      "Requirement already satisfied: torchvision==0.16.0 in c:\\users\\impha\\anaconda3\\envs\\motionbert-mmpose\\lib\\site-packages (0.16.0+cu121)\n",
      "Requirement already satisfied: torchaudio==2.1.0 in c:\\users\\impha\\anaconda3\\envs\\motionbert-mmpose\\lib\\site-packages (2.1.0+cu121)\n",
      "Requirement already satisfied: filelock in c:\\users\\impha\\anaconda3\\envs\\motionbert-mmpose\\lib\\site-packages (from torch==2.1.0) (3.13.1)\n",
      "Requirement already satisfied: typing-extensions in c:\\users\\impha\\anaconda3\\envs\\motionbert-mmpose\\lib\\site-packages (from torch==2.1.0) (4.11.0)\n",
      "Requirement already satisfied: sympy in c:\\users\\impha\\anaconda3\\envs\\motionbert-mmpose\\lib\\site-packages (from torch==2.1.0) (1.12)\n",
      "Requirement already satisfied: networkx in c:\\users\\impha\\anaconda3\\envs\\motionbert-mmpose\\lib\\site-packages (from torch==2.1.0) (3.2.1)\n",
      "Requirement already satisfied: jinja2 in c:\\users\\impha\\anaconda3\\envs\\motionbert-mmpose\\lib\\site-packages (from torch==2.1.0) (3.1.3)\n",
      "Requirement already satisfied: fsspec in c:\\users\\impha\\anaconda3\\envs\\motionbert-mmpose\\lib\\site-packages (from torch==2.1.0) (2024.2.0)\n",
      "Requirement already satisfied: numpy in c:\\users\\impha\\anaconda3\\envs\\motionbert-mmpose\\lib\\site-packages (from torchvision==0.16.0) (1.26.3)\n",
      "Requirement already satisfied: requests in c:\\users\\impha\\anaconda3\\envs\\motionbert-mmpose\\lib\\site-packages (from torchvision==0.16.0) (2.28.2)\n",
      "Requirement already satisfied: pillow!=8.3.*,>=5.3.0 in c:\\users\\impha\\anaconda3\\envs\\motionbert-mmpose\\lib\\site-packages (from torchvision==0.16.0) (10.2.0)\n",
      "Requirement already satisfied: MarkupSafe>=2.0 in c:\\users\\impha\\anaconda3\\envs\\motionbert-mmpose\\lib\\site-packages (from jinja2->torch==2.1.0) (2.1.5)\n",
      "Requirement already satisfied: charset-normalizer<4,>=2 in c:\\users\\impha\\anaconda3\\envs\\motionbert-mmpose\\lib\\site-packages (from requests->torchvision==0.16.0) (3.3.2)\n",
      "Requirement already satisfied: idna<4,>=2.5 in c:\\users\\impha\\anaconda3\\envs\\motionbert-mmpose\\lib\\site-packages (from requests->torchvision==0.16.0) (3.7)\n",
      "Requirement already satisfied: urllib3<1.27,>=1.21.1 in c:\\users\\impha\\anaconda3\\envs\\motionbert-mmpose\\lib\\site-packages (from requests->torchvision==0.16.0) (1.26.18)\n",
      "Requirement already satisfied: certifi>=2017.4.17 in c:\\users\\impha\\anaconda3\\envs\\motionbert-mmpose\\lib\\site-packages (from requests->torchvision==0.16.0) (2024.2.2)\n",
      "Requirement already satisfied: mpmath>=0.19 in c:\\users\\impha\\anaconda3\\envs\\motionbert-mmpose\\lib\\site-packages (from sympy->torch==2.1.0) (1.3.0)\n"
     ]
    }
   ],
   "source": [
    "# Installing PyTorch 2.1.0, Torchvision, and Torchaudio compatible with CUDA 12.1\n",
    "!pip install torch==2.1.0 torchvision==0.16.0 torchaudio==2.1.0 --index-url https://download.pytorch.org/whl/cu121"
   ]
  },
  {
   "cell_type": "code",
   "execution_count": 3,
   "metadata": {},
   "outputs": [
    {
     "name": "stdout",
     "output_type": "stream",
     "text": [
      "Requirement already satisfied: openmim in c:\\users\\impha\\anaconda3\\envs\\motionbert-mmpose\\lib\\site-packages (0.3.9)\n",
      "Requirement already satisfied: Click in c:\\users\\impha\\anaconda3\\envs\\motionbert-mmpose\\lib\\site-packages (from openmim) (8.1.7)\n",
      "Requirement already satisfied: colorama in c:\\users\\impha\\anaconda3\\envs\\motionbert-mmpose\\lib\\site-packages (from openmim) (0.4.6)\n",
      "Requirement already satisfied: model-index in c:\\users\\impha\\anaconda3\\envs\\motionbert-mmpose\\lib\\site-packages (from openmim) (0.1.11)\n",
      "Requirement already satisfied: opendatalab in c:\\users\\impha\\anaconda3\\envs\\motionbert-mmpose\\lib\\site-packages (from openmim) (0.0.10)\n",
      "Requirement already satisfied: pandas in c:\\users\\impha\\anaconda3\\envs\\motionbert-mmpose\\lib\\site-packages (from openmim) (2.2.2)\n",
      "Requirement already satisfied: pip>=19.3 in c:\\users\\impha\\anaconda3\\envs\\motionbert-mmpose\\lib\\site-packages (from openmim) (23.3.1)\n",
      "Requirement already satisfied: requests in c:\\users\\impha\\anaconda3\\envs\\motionbert-mmpose\\lib\\site-packages (from openmim) (2.28.2)\n",
      "Requirement already satisfied: rich in c:\\users\\impha\\anaconda3\\envs\\motionbert-mmpose\\lib\\site-packages (from openmim) (13.4.2)\n",
      "Requirement already satisfied: tabulate in c:\\users\\impha\\anaconda3\\envs\\motionbert-mmpose\\lib\\site-packages (from openmim) (0.9.0)\n",
      "Requirement already satisfied: pyyaml in c:\\users\\impha\\anaconda3\\envs\\motionbert-mmpose\\lib\\site-packages (from model-index->openmim) (6.0.1)\n",
      "Requirement already satisfied: markdown in c:\\users\\impha\\anaconda3\\envs\\motionbert-mmpose\\lib\\site-packages (from model-index->openmim) (3.6)\n",
      "Requirement already satisfied: ordered-set in c:\\users\\impha\\anaconda3\\envs\\motionbert-mmpose\\lib\\site-packages (from model-index->openmim) (4.1.0)\n",
      "Requirement already satisfied: pycryptodome in c:\\users\\impha\\anaconda3\\envs\\motionbert-mmpose\\lib\\site-packages (from opendatalab->openmim) (3.20.0)\n",
      "Requirement already satisfied: tqdm in c:\\users\\impha\\anaconda3\\envs\\motionbert-mmpose\\lib\\site-packages (from opendatalab->openmim) (4.65.2)\n",
      "Requirement already satisfied: openxlab in c:\\users\\impha\\anaconda3\\envs\\motionbert-mmpose\\lib\\site-packages (from opendatalab->openmim) (0.0.38)\n",
      "Requirement already satisfied: pywin32 in c:\\users\\impha\\anaconda3\\envs\\motionbert-mmpose\\lib\\site-packages (from opendatalab->openmim) (305.1)\n",
      "Requirement already satisfied: charset-normalizer<4,>=2 in c:\\users\\impha\\anaconda3\\envs\\motionbert-mmpose\\lib\\site-packages (from requests->openmim) (3.3.2)\n",
      "Requirement already satisfied: idna<4,>=2.5 in c:\\users\\impha\\anaconda3\\envs\\motionbert-mmpose\\lib\\site-packages (from requests->openmim) (3.7)\n",
      "Requirement already satisfied: urllib3<1.27,>=1.21.1 in c:\\users\\impha\\anaconda3\\envs\\motionbert-mmpose\\lib\\site-packages (from requests->openmim) (1.26.18)\n",
      "Requirement already satisfied: certifi>=2017.4.17 in c:\\users\\impha\\anaconda3\\envs\\motionbert-mmpose\\lib\\site-packages (from requests->openmim) (2024.2.2)\n",
      "Requirement already satisfied: numpy>=1.23.2 in c:\\users\\impha\\anaconda3\\envs\\motionbert-mmpose\\lib\\site-packages (from pandas->openmim) (1.26.3)\n",
      "Requirement already satisfied: python-dateutil>=2.8.2 in c:\\users\\impha\\anaconda3\\envs\\motionbert-mmpose\\lib\\site-packages (from pandas->openmim) (2.9.0)\n",
      "Requirement already satisfied: pytz>=2020.1 in c:\\users\\impha\\anaconda3\\envs\\motionbert-mmpose\\lib\\site-packages (from pandas->openmim) (2023.4)\n",
      "Requirement already satisfied: tzdata>=2022.7 in c:\\users\\impha\\anaconda3\\envs\\motionbert-mmpose\\lib\\site-packages (from pandas->openmim) (2024.1)\n",
      "Requirement already satisfied: markdown-it-py>=2.2.0 in c:\\users\\impha\\anaconda3\\envs\\motionbert-mmpose\\lib\\site-packages (from rich->openmim) (3.0.0)\n",
      "Requirement already satisfied: pygments<3.0.0,>=2.13.0 in c:\\users\\impha\\anaconda3\\envs\\motionbert-mmpose\\lib\\site-packages (from rich->openmim) (2.18.0)\n",
      "Requirement already satisfied: mdurl~=0.1 in c:\\users\\impha\\anaconda3\\envs\\motionbert-mmpose\\lib\\site-packages (from markdown-it-py>=2.2.0->rich->openmim) (0.1.2)\n",
      "Requirement already satisfied: six>=1.5 in c:\\users\\impha\\anaconda3\\envs\\motionbert-mmpose\\lib\\site-packages (from python-dateutil>=2.8.2->pandas->openmim) (1.16.0)\n",
      "Requirement already satisfied: oss2~=2.17.0 in c:\\users\\impha\\anaconda3\\envs\\motionbert-mmpose\\lib\\site-packages (from openxlab->opendatalab->openmim) (2.17.0)\n",
      "Requirement already satisfied: setuptools~=60.2.0 in c:\\users\\impha\\anaconda3\\envs\\motionbert-mmpose\\lib\\site-packages (from openxlab->opendatalab->openmim) (60.2.0)\n",
      "Requirement already satisfied: crcmod>=1.7 in c:\\users\\impha\\anaconda3\\envs\\motionbert-mmpose\\lib\\site-packages (from oss2~=2.17.0->openxlab->opendatalab->openmim) (1.7)\n",
      "Requirement already satisfied: aliyun-python-sdk-kms>=2.4.1 in c:\\users\\impha\\anaconda3\\envs\\motionbert-mmpose\\lib\\site-packages (from oss2~=2.17.0->openxlab->opendatalab->openmim) (2.16.2)\n",
      "Requirement already satisfied: aliyun-python-sdk-core>=2.13.12 in c:\\users\\impha\\anaconda3\\envs\\motionbert-mmpose\\lib\\site-packages (from oss2~=2.17.0->openxlab->opendatalab->openmim) (2.15.1)\n",
      "Requirement already satisfied: jmespath<1.0.0,>=0.9.3 in c:\\users\\impha\\anaconda3\\envs\\motionbert-mmpose\\lib\\site-packages (from aliyun-python-sdk-core>=2.13.12->oss2~=2.17.0->openxlab->opendatalab->openmim) (0.10.0)\n",
      "Requirement already satisfied: cryptography>=2.6.0 in c:\\users\\impha\\anaconda3\\envs\\motionbert-mmpose\\lib\\site-packages (from aliyun-python-sdk-core>=2.13.12->oss2~=2.17.0->openxlab->opendatalab->openmim) (42.0.7)\n",
      "Requirement already satisfied: cffi>=1.12 in c:\\users\\impha\\anaconda3\\envs\\motionbert-mmpose\\lib\\site-packages (from cryptography>=2.6.0->aliyun-python-sdk-core>=2.13.12->oss2~=2.17.0->openxlab->opendatalab->openmim) (1.16.0)\n",
      "Requirement already satisfied: pycparser in c:\\users\\impha\\anaconda3\\envs\\motionbert-mmpose\\lib\\site-packages (from cffi>=1.12->cryptography>=2.6.0->aliyun-python-sdk-core>=2.13.12->oss2~=2.17.0->openxlab->opendatalab->openmim) (2.22)\n",
      "Looking in links: https://download.openmmlab.com/mmcv/dist/cu121/torch2.1.0/index.html\n",
      "Requirement already satisfied: mmengine in c:\\users\\impha\\anaconda3\\envs\\motionbert-mmpose\\lib\\site-packages (0.10.4)\n",
      "Requirement already satisfied: addict in c:\\users\\impha\\anaconda3\\envs\\motionbert-mmpose\\lib\\site-packages (from mmengine) (2.4.0)\n",
      "Requirement already satisfied: matplotlib in c:\\users\\impha\\anaconda3\\envs\\motionbert-mmpose\\lib\\site-packages (from mmengine) (3.8.4)\n",
      "Requirement already satisfied: numpy in c:\\users\\impha\\anaconda3\\envs\\motionbert-mmpose\\lib\\site-packages (from mmengine) (1.26.3)\n",
      "Requirement already satisfied: pyyaml in c:\\users\\impha\\anaconda3\\envs\\motionbert-mmpose\\lib\\site-packages (from mmengine) (6.0.1)\n",
      "Requirement already satisfied: rich in c:\\users\\impha\\anaconda3\\envs\\motionbert-mmpose\\lib\\site-packages (from mmengine) (13.4.2)\n",
      "Requirement already satisfied: termcolor in c:\\users\\impha\\anaconda3\\envs\\motionbert-mmpose\\lib\\site-packages (from mmengine) (2.4.0)\n",
      "Requirement already satisfied: yapf in c:\\users\\impha\\anaconda3\\envs\\motionbert-mmpose\\lib\\site-packages (from mmengine) (0.40.2)\n",
      "Requirement already satisfied: opencv-python>=3 in c:\\users\\impha\\anaconda3\\envs\\motionbert-mmpose\\lib\\site-packages (from mmengine) (4.9.0.80)\n",
      "Requirement already satisfied: regex in c:\\users\\impha\\anaconda3\\envs\\motionbert-mmpose\\lib\\site-packages (from mmengine) (2024.4.28)\n",
      "Requirement already satisfied: contourpy>=1.0.1 in c:\\users\\impha\\anaconda3\\envs\\motionbert-mmpose\\lib\\site-packages (from matplotlib->mmengine) (1.2.1)\n",
      "Requirement already satisfied: cycler>=0.10 in c:\\users\\impha\\anaconda3\\envs\\motionbert-mmpose\\lib\\site-packages (from matplotlib->mmengine) (0.12.1)\n",
      "Requirement already satisfied: fonttools>=4.22.0 in c:\\users\\impha\\anaconda3\\envs\\motionbert-mmpose\\lib\\site-packages (from matplotlib->mmengine) (4.51.0)\n",
      "Requirement already satisfied: kiwisolver>=1.3.1 in c:\\users\\impha\\anaconda3\\envs\\motionbert-mmpose\\lib\\site-packages (from matplotlib->mmengine) (1.4.5)\n",
      "Requirement already satisfied: packaging>=20.0 in c:\\users\\impha\\anaconda3\\envs\\motionbert-mmpose\\lib\\site-packages (from matplotlib->mmengine) (24.0)\n",
      "Requirement already satisfied: pillow>=8 in c:\\users\\impha\\anaconda3\\envs\\motionbert-mmpose\\lib\\site-packages (from matplotlib->mmengine) (10.2.0)\n",
      "Requirement already satisfied: pyparsing>=2.3.1 in c:\\users\\impha\\anaconda3\\envs\\motionbert-mmpose\\lib\\site-packages (from matplotlib->mmengine) (3.1.2)\n",
      "Requirement already satisfied: python-dateutil>=2.7 in c:\\users\\impha\\anaconda3\\envs\\motionbert-mmpose\\lib\\site-packages (from matplotlib->mmengine) (2.9.0)\n",
      "Requirement already satisfied: markdown-it-py>=2.2.0 in c:\\users\\impha\\anaconda3\\envs\\motionbert-mmpose\\lib\\site-packages (from rich->mmengine) (3.0.0)\n",
      "Requirement already satisfied: pygments<3.0.0,>=2.13.0 in c:\\users\\impha\\anaconda3\\envs\\motionbert-mmpose\\lib\\site-packages (from rich->mmengine) (2.18.0)\n",
      "Requirement already satisfied: importlib-metadata>=6.6.0 in c:\\users\\impha\\anaconda3\\envs\\motionbert-mmpose\\lib\\site-packages (from yapf->mmengine) (7.1.0)\n",
      "Requirement already satisfied: platformdirs>=3.5.1 in c:\\users\\impha\\anaconda3\\envs\\motionbert-mmpose\\lib\\site-packages (from yapf->mmengine) (4.2.1)\n",
      "Requirement already satisfied: tomli>=2.0.1 in c:\\users\\impha\\anaconda3\\envs\\motionbert-mmpose\\lib\\site-packages (from yapf->mmengine) (2.0.1)\n",
      "Requirement already satisfied: zipp>=0.5 in c:\\users\\impha\\anaconda3\\envs\\motionbert-mmpose\\lib\\site-packages (from importlib-metadata>=6.6.0->yapf->mmengine) (3.17.0)\n",
      "Requirement already satisfied: mdurl~=0.1 in c:\\users\\impha\\anaconda3\\envs\\motionbert-mmpose\\lib\\site-packages (from markdown-it-py>=2.2.0->rich->mmengine) (0.1.2)\n",
      "Requirement already satisfied: six>=1.5 in c:\\users\\impha\\anaconda3\\envs\\motionbert-mmpose\\lib\\site-packages (from python-dateutil>=2.7->matplotlib->mmengine) (1.16.0)\n"
     ]
    }
   ],
   "source": [
    "# Installing package managers for MMPose\n",
    "\n",
    "!pip3 install openmim\n",
    "!mim install mmengine"
   ]
  },
  {
   "cell_type": "code",
   "execution_count": 2,
   "metadata": {},
   "outputs": [
    {
     "name": "stdout",
     "output_type": "stream",
     "text": [
      "Looking in links: https://download.openmmlab.com/mmcv/dist/cu121/torch2.1/index.html\n",
      "Requirement already satisfied: mmcv==2.1.0 in c:\\users\\impha\\anaconda3\\envs\\motionbert-mmpose\\lib\\site-packages (2.1.0)\n",
      "Requirement already satisfied: addict in c:\\users\\impha\\anaconda3\\envs\\motionbert-mmpose\\lib\\site-packages (from mmcv==2.1.0) (2.4.0)\n",
      "Requirement already satisfied: mmengine>=0.3.0 in c:\\users\\impha\\anaconda3\\envs\\motionbert-mmpose\\lib\\site-packages (from mmcv==2.1.0) (0.10.4)\n",
      "Requirement already satisfied: numpy in c:\\users\\impha\\anaconda3\\envs\\motionbert-mmpose\\lib\\site-packages (from mmcv==2.1.0) (1.26.3)\n",
      "Requirement already satisfied: packaging in c:\\users\\impha\\anaconda3\\envs\\motionbert-mmpose\\lib\\site-packages (from mmcv==2.1.0) (24.0)\n",
      "Requirement already satisfied: Pillow in c:\\users\\impha\\anaconda3\\envs\\motionbert-mmpose\\lib\\site-packages (from mmcv==2.1.0) (10.2.0)\n",
      "Requirement already satisfied: pyyaml in c:\\users\\impha\\anaconda3\\envs\\motionbert-mmpose\\lib\\site-packages (from mmcv==2.1.0) (6.0.1)\n",
      "Requirement already satisfied: yapf in c:\\users\\impha\\anaconda3\\envs\\motionbert-mmpose\\lib\\site-packages (from mmcv==2.1.0) (0.40.2)\n",
      "Requirement already satisfied: opencv-python>=3 in c:\\users\\impha\\anaconda3\\envs\\motionbert-mmpose\\lib\\site-packages (from mmcv==2.1.0) (4.9.0.80)\n",
      "Requirement already satisfied: regex in c:\\users\\impha\\anaconda3\\envs\\motionbert-mmpose\\lib\\site-packages (from mmcv==2.1.0) (2024.4.28)\n",
      "Requirement already satisfied: matplotlib in c:\\users\\impha\\anaconda3\\envs\\motionbert-mmpose\\lib\\site-packages (from mmengine>=0.3.0->mmcv==2.1.0) (3.8.4)\n",
      "Requirement already satisfied: rich in c:\\users\\impha\\anaconda3\\envs\\motionbert-mmpose\\lib\\site-packages (from mmengine>=0.3.0->mmcv==2.1.0) (13.4.2)\n",
      "Requirement already satisfied: termcolor in c:\\users\\impha\\anaconda3\\envs\\motionbert-mmpose\\lib\\site-packages (from mmengine>=0.3.0->mmcv==2.1.0) (2.4.0)\n",
      "Requirement already satisfied: importlib-metadata>=6.6.0 in c:\\users\\impha\\anaconda3\\envs\\motionbert-mmpose\\lib\\site-packages (from yapf->mmcv==2.1.0) (7.1.0)\n",
      "Requirement already satisfied: platformdirs>=3.5.1 in c:\\users\\impha\\anaconda3\\envs\\motionbert-mmpose\\lib\\site-packages (from yapf->mmcv==2.1.0) (4.2.1)\n",
      "Requirement already satisfied: tomli>=2.0.1 in c:\\users\\impha\\anaconda3\\envs\\motionbert-mmpose\\lib\\site-packages (from yapf->mmcv==2.1.0) (2.0.1)\n",
      "Requirement already satisfied: zipp>=0.5 in c:\\users\\impha\\anaconda3\\envs\\motionbert-mmpose\\lib\\site-packages (from importlib-metadata>=6.6.0->yapf->mmcv==2.1.0) (3.17.0)\n",
      "Requirement already satisfied: contourpy>=1.0.1 in c:\\users\\impha\\anaconda3\\envs\\motionbert-mmpose\\lib\\site-packages (from matplotlib->mmengine>=0.3.0->mmcv==2.1.0) (1.2.1)\n",
      "Requirement already satisfied: cycler>=0.10 in c:\\users\\impha\\anaconda3\\envs\\motionbert-mmpose\\lib\\site-packages (from matplotlib->mmengine>=0.3.0->mmcv==2.1.0) (0.12.1)\n",
      "Requirement already satisfied: fonttools>=4.22.0 in c:\\users\\impha\\anaconda3\\envs\\motionbert-mmpose\\lib\\site-packages (from matplotlib->mmengine>=0.3.0->mmcv==2.1.0) (4.51.0)\n",
      "Requirement already satisfied: kiwisolver>=1.3.1 in c:\\users\\impha\\anaconda3\\envs\\motionbert-mmpose\\lib\\site-packages (from matplotlib->mmengine>=0.3.0->mmcv==2.1.0) (1.4.5)\n",
      "Requirement already satisfied: pyparsing>=2.3.1 in c:\\users\\impha\\anaconda3\\envs\\motionbert-mmpose\\lib\\site-packages (from matplotlib->mmengine>=0.3.0->mmcv==2.1.0) (3.1.2)\n",
      "Requirement already satisfied: python-dateutil>=2.7 in c:\\users\\impha\\anaconda3\\envs\\motionbert-mmpose\\lib\\site-packages (from matplotlib->mmengine>=0.3.0->mmcv==2.1.0) (2.9.0)\n",
      "Requirement already satisfied: markdown-it-py>=2.2.0 in c:\\users\\impha\\anaconda3\\envs\\motionbert-mmpose\\lib\\site-packages (from rich->mmengine>=0.3.0->mmcv==2.1.0) (3.0.0)\n",
      "Requirement already satisfied: pygments<3.0.0,>=2.13.0 in c:\\users\\impha\\anaconda3\\envs\\motionbert-mmpose\\lib\\site-packages (from rich->mmengine>=0.3.0->mmcv==2.1.0) (2.18.0)\n",
      "Requirement already satisfied: mdurl~=0.1 in c:\\users\\impha\\anaconda3\\envs\\motionbert-mmpose\\lib\\site-packages (from markdown-it-py>=2.2.0->rich->mmengine>=0.3.0->mmcv==2.1.0) (0.1.2)\n",
      "Requirement already satisfied: six>=1.5 in c:\\users\\impha\\anaconda3\\envs\\motionbert-mmpose\\lib\\site-packages (from python-dateutil>=2.7->matplotlib->mmengine>=0.3.0->mmcv==2.1.0) (1.16.0)\n"
     ]
    }
   ],
   "source": [
    "# Installing MMCV 2.1.0 compatible with PyTorch 2.1.0\n",
    "\n",
    "!pip install mmcv==2.1.0 -f https://download.openmmlab.com/mmcv/dist/cu121/torch2.1/index.html"
   ]
  },
  {
   "cell_type": "code",
   "execution_count": 4,
   "metadata": {},
   "outputs": [
    {
     "name": "stdout",
     "output_type": "stream",
     "text": [
      "c:\\Users\\impha\\Downloads\\Local Implementation\\mmpose\n"
     ]
    },
    {
     "name": "stderr",
     "output_type": "stream",
     "text": [
      "Cloning into 'mmpose'...\n"
     ]
    },
    {
     "name": "stdout",
     "output_type": "stream",
     "text": [
      "Obtaining file:///C:/Users/impha/Downloads/Local%20Implementation/mmpose\n",
      "  Preparing metadata (setup.py): started\n",
      "  Preparing metadata (setup.py): finished with status 'done'\n",
      "Requirement already satisfied: chumpy in c:\\users\\impha\\anaconda3\\envs\\motionbert-mmpose\\lib\\site-packages (from mmpose==1.3.1) (0.70)\n",
      "Requirement already satisfied: json_tricks in c:\\users\\impha\\anaconda3\\envs\\motionbert-mmpose\\lib\\site-packages (from mmpose==1.3.1) (3.17.3)\n",
      "Requirement already satisfied: matplotlib in c:\\users\\impha\\anaconda3\\envs\\motionbert-mmpose\\lib\\site-packages (from mmpose==1.3.1) (3.8.4)\n",
      "Requirement already satisfied: munkres in c:\\users\\impha\\anaconda3\\envs\\motionbert-mmpose\\lib\\site-packages (from mmpose==1.3.1) (1.1.4)\n",
      "Requirement already satisfied: numpy in c:\\users\\impha\\anaconda3\\envs\\motionbert-mmpose\\lib\\site-packages (from mmpose==1.3.1) (1.26.3)\n",
      "Requirement already satisfied: opencv-python in c:\\users\\impha\\anaconda3\\envs\\motionbert-mmpose\\lib\\site-packages (from mmpose==1.3.1) (4.9.0.80)\n",
      "Requirement already satisfied: pillow in c:\\users\\impha\\anaconda3\\envs\\motionbert-mmpose\\lib\\site-packages (from mmpose==1.3.1) (10.2.0)\n",
      "Requirement already satisfied: scipy in c:\\users\\impha\\anaconda3\\envs\\motionbert-mmpose\\lib\\site-packages (from mmpose==1.3.1) (1.13.0)\n",
      "Requirement already satisfied: torchvision in c:\\users\\impha\\anaconda3\\envs\\motionbert-mmpose\\lib\\site-packages (from mmpose==1.3.1) (0.16.0+cu121)\n",
      "Requirement already satisfied: xtcocotools>=1.12 in c:\\users\\impha\\anaconda3\\envs\\motionbert-mmpose\\lib\\site-packages (from mmpose==1.3.1) (1.14.3)\n",
      "Requirement already satisfied: setuptools>=18.0 in c:\\users\\impha\\anaconda3\\envs\\motionbert-mmpose\\lib\\site-packages (from xtcocotools>=1.12->mmpose==1.3.1) (60.2.0)\n",
      "Requirement already satisfied: cython>=0.27.3 in c:\\users\\impha\\anaconda3\\envs\\motionbert-mmpose\\lib\\site-packages (from xtcocotools>=1.12->mmpose==1.3.1) (3.0.10)\n",
      "Requirement already satisfied: contourpy>=1.0.1 in c:\\users\\impha\\anaconda3\\envs\\motionbert-mmpose\\lib\\site-packages (from matplotlib->mmpose==1.3.1) (1.2.1)\n",
      "Requirement already satisfied: cycler>=0.10 in c:\\users\\impha\\anaconda3\\envs\\motionbert-mmpose\\lib\\site-packages (from matplotlib->mmpose==1.3.1) (0.12.1)\n",
      "Requirement already satisfied: fonttools>=4.22.0 in c:\\users\\impha\\anaconda3\\envs\\motionbert-mmpose\\lib\\site-packages (from matplotlib->mmpose==1.3.1) (4.51.0)\n",
      "Requirement already satisfied: kiwisolver>=1.3.1 in c:\\users\\impha\\anaconda3\\envs\\motionbert-mmpose\\lib\\site-packages (from matplotlib->mmpose==1.3.1) (1.4.5)\n",
      "Requirement already satisfied: packaging>=20.0 in c:\\users\\impha\\anaconda3\\envs\\motionbert-mmpose\\lib\\site-packages (from matplotlib->mmpose==1.3.1) (24.0)\n",
      "Requirement already satisfied: pyparsing>=2.3.1 in c:\\users\\impha\\anaconda3\\envs\\motionbert-mmpose\\lib\\site-packages (from matplotlib->mmpose==1.3.1) (3.1.2)\n",
      "Requirement already satisfied: python-dateutil>=2.7 in c:\\users\\impha\\anaconda3\\envs\\motionbert-mmpose\\lib\\site-packages (from matplotlib->mmpose==1.3.1) (2.9.0)\n",
      "Requirement already satisfied: six>=1.11.0 in c:\\users\\impha\\anaconda3\\envs\\motionbert-mmpose\\lib\\site-packages (from chumpy->mmpose==1.3.1) (1.16.0)\n",
      "Requirement already satisfied: requests in c:\\users\\impha\\anaconda3\\envs\\motionbert-mmpose\\lib\\site-packages (from torchvision->mmpose==1.3.1) (2.28.2)\n",
      "Requirement already satisfied: torch==2.1.0+cu121 in c:\\users\\impha\\anaconda3\\envs\\motionbert-mmpose\\lib\\site-packages (from torchvision->mmpose==1.3.1) (2.1.0+cu121)\n",
      "Requirement already satisfied: filelock in c:\\users\\impha\\anaconda3\\envs\\motionbert-mmpose\\lib\\site-packages (from torch==2.1.0+cu121->torchvision->mmpose==1.3.1) (3.13.1)\n",
      "Requirement already satisfied: typing-extensions in c:\\users\\impha\\anaconda3\\envs\\motionbert-mmpose\\lib\\site-packages (from torch==2.1.0+cu121->torchvision->mmpose==1.3.1) (4.11.0)\n",
      "Requirement already satisfied: sympy in c:\\users\\impha\\anaconda3\\envs\\motionbert-mmpose\\lib\\site-packages (from torch==2.1.0+cu121->torchvision->mmpose==1.3.1) (1.12)\n",
      "Requirement already satisfied: networkx in c:\\users\\impha\\anaconda3\\envs\\motionbert-mmpose\\lib\\site-packages (from torch==2.1.0+cu121->torchvision->mmpose==1.3.1) (3.2.1)\n",
      "Requirement already satisfied: jinja2 in c:\\users\\impha\\anaconda3\\envs\\motionbert-mmpose\\lib\\site-packages (from torch==2.1.0+cu121->torchvision->mmpose==1.3.1) (3.1.3)\n",
      "Requirement already satisfied: fsspec in c:\\users\\impha\\anaconda3\\envs\\motionbert-mmpose\\lib\\site-packages (from torch==2.1.0+cu121->torchvision->mmpose==1.3.1) (2024.2.0)\n",
      "Requirement already satisfied: charset-normalizer<4,>=2 in c:\\users\\impha\\anaconda3\\envs\\motionbert-mmpose\\lib\\site-packages (from requests->torchvision->mmpose==1.3.1) (3.3.2)\n",
      "Requirement already satisfied: idna<4,>=2.5 in c:\\users\\impha\\anaconda3\\envs\\motionbert-mmpose\\lib\\site-packages (from requests->torchvision->mmpose==1.3.1) (3.7)\n",
      "Requirement already satisfied: urllib3<1.27,>=1.21.1 in c:\\users\\impha\\anaconda3\\envs\\motionbert-mmpose\\lib\\site-packages (from requests->torchvision->mmpose==1.3.1) (1.26.18)\n",
      "Requirement already satisfied: certifi>=2017.4.17 in c:\\users\\impha\\anaconda3\\envs\\motionbert-mmpose\\lib\\site-packages (from requests->torchvision->mmpose==1.3.1) (2024.2.2)\n",
      "Requirement already satisfied: MarkupSafe>=2.0 in c:\\users\\impha\\anaconda3\\envs\\motionbert-mmpose\\lib\\site-packages (from jinja2->torch==2.1.0+cu121->torchvision->mmpose==1.3.1) (2.1.5)\n",
      "Requirement already satisfied: mpmath>=0.19 in c:\\users\\impha\\anaconda3\\envs\\motionbert-mmpose\\lib\\site-packages (from sympy->torch==2.1.0+cu121->torchvision->mmpose==1.3.1) (1.3.0)\n",
      "Installing collected packages: mmpose\n",
      "  Running setup.py develop for mmpose\n",
      "Successfully installed mmpose-1.3.1\n"
     ]
    }
   ],
   "source": [
    "# Cloning MMPose GitHub Repository to our environment and setup the library\n",
    "\n",
    "! git clone https://github.com/open-mmlab/mmpose.git\n",
    "%cd mmpose\n",
    "! pip install -e ."
   ]
  },
  {
   "cell_type": "code",
   "execution_count": 5,
   "metadata": {},
   "outputs": [
    {
     "name": "stdout",
     "output_type": "stream",
     "text": [
      "C:\\Users\\impha\\Downloads\\Local Implementation\n",
      "C:\\Users\\impha\\Downloads\\Local Implementation\\mmdetection\n"
     ]
    },
    {
     "name": "stderr",
     "output_type": "stream",
     "text": [
      "Cloning into 'mmdetection'...\n"
     ]
    },
    {
     "name": "stdout",
     "output_type": "stream",
     "text": [
      "Obtaining file:///C:/Users/impha/Downloads/Local%20Implementation/mmdetection\n",
      "  Preparing metadata (setup.py): started\n",
      "  Preparing metadata (setup.py): finished with status 'done'\n",
      "Requirement already satisfied: matplotlib in c:\\users\\impha\\anaconda3\\envs\\motionbert-mmpose\\lib\\site-packages (from mmdet==3.3.0) (3.8.4)\n",
      "Requirement already satisfied: numpy in c:\\users\\impha\\anaconda3\\envs\\motionbert-mmpose\\lib\\site-packages (from mmdet==3.3.0) (1.26.3)\n",
      "Requirement already satisfied: pycocotools in c:\\users\\impha\\anaconda3\\envs\\motionbert-mmpose\\lib\\site-packages (from mmdet==3.3.0) (2.0.7)\n",
      "Requirement already satisfied: scipy in c:\\users\\impha\\anaconda3\\envs\\motionbert-mmpose\\lib\\site-packages (from mmdet==3.3.0) (1.13.0)\n",
      "Requirement already satisfied: shapely in c:\\users\\impha\\anaconda3\\envs\\motionbert-mmpose\\lib\\site-packages (from mmdet==3.3.0) (2.0.4)\n",
      "Requirement already satisfied: six in c:\\users\\impha\\anaconda3\\envs\\motionbert-mmpose\\lib\\site-packages (from mmdet==3.3.0) (1.16.0)\n",
      "Requirement already satisfied: terminaltables in c:\\users\\impha\\anaconda3\\envs\\motionbert-mmpose\\lib\\site-packages (from mmdet==3.3.0) (3.1.10)\n",
      "Requirement already satisfied: tqdm in c:\\users\\impha\\anaconda3\\envs\\motionbert-mmpose\\lib\\site-packages (from mmdet==3.3.0) (4.65.2)\n",
      "Requirement already satisfied: contourpy>=1.0.1 in c:\\users\\impha\\anaconda3\\envs\\motionbert-mmpose\\lib\\site-packages (from matplotlib->mmdet==3.3.0) (1.2.1)\n",
      "Requirement already satisfied: cycler>=0.10 in c:\\users\\impha\\anaconda3\\envs\\motionbert-mmpose\\lib\\site-packages (from matplotlib->mmdet==3.3.0) (0.12.1)\n",
      "Requirement already satisfied: fonttools>=4.22.0 in c:\\users\\impha\\anaconda3\\envs\\motionbert-mmpose\\lib\\site-packages (from matplotlib->mmdet==3.3.0) (4.51.0)\n",
      "Requirement already satisfied: kiwisolver>=1.3.1 in c:\\users\\impha\\anaconda3\\envs\\motionbert-mmpose\\lib\\site-packages (from matplotlib->mmdet==3.3.0) (1.4.5)\n",
      "Requirement already satisfied: packaging>=20.0 in c:\\users\\impha\\anaconda3\\envs\\motionbert-mmpose\\lib\\site-packages (from matplotlib->mmdet==3.3.0) (24.0)\n",
      "Requirement already satisfied: pillow>=8 in c:\\users\\impha\\anaconda3\\envs\\motionbert-mmpose\\lib\\site-packages (from matplotlib->mmdet==3.3.0) (10.2.0)\n",
      "Requirement already satisfied: pyparsing>=2.3.1 in c:\\users\\impha\\anaconda3\\envs\\motionbert-mmpose\\lib\\site-packages (from matplotlib->mmdet==3.3.0) (3.1.2)\n",
      "Requirement already satisfied: python-dateutil>=2.7 in c:\\users\\impha\\anaconda3\\envs\\motionbert-mmpose\\lib\\site-packages (from matplotlib->mmdet==3.3.0) (2.9.0)\n",
      "Requirement already satisfied: colorama in c:\\users\\impha\\anaconda3\\envs\\motionbert-mmpose\\lib\\site-packages (from tqdm->mmdet==3.3.0) (0.4.6)\n",
      "Installing collected packages: mmdet\n",
      "  Running setup.py develop for mmdet\n",
      "Successfully installed mmdet-3.3.0\n"
     ]
    }
   ],
   "source": [
    "# Cloning MMDetection GitHub Repository to our environment and setup the library\n",
    "\n",
    "%cd C:/Users/impha/Downloads/Local Implementation\n",
    "!git clone https://github.com/open-mmlab/mmdetection.git\n",
    "%cd mmdetection\n",
    "!pip install -e ."
   ]
  },
  {
   "cell_type": "code",
   "execution_count": 6,
   "metadata": {},
   "outputs": [
    {
     "name": "stdout",
     "output_type": "stream",
     "text": [
      "C:\\Users\\impha\\Downloads\\Local Implementation\\mmpose\n",
      "1.3.1\n"
     ]
    }
   ],
   "source": [
    "# Checking the versions of MMPose, MMDetection, and MMCV to ensure compatibility between each other\n",
    "%cd C:/Users/impha/Downloads/Local Implementation/mmpose\n",
    "import mmpose\n",
    "print(mmpose.__version__)"
   ]
  },
  {
   "cell_type": "code",
   "execution_count": 7,
   "metadata": {},
   "outputs": [
    {
     "name": "stdout",
     "output_type": "stream",
     "text": [
      "C:\\Users\\impha\\Downloads\\Local Implementation\\mmdetection\n",
      "3.3.0\n"
     ]
    }
   ],
   "source": [
    "# Checking the versions of MMPose, MMDetection, and MMCV to ensure compatibility between each other\n",
    "\n",
    "%cd C:/Users/impha/Downloads/Local Implementation/mmdetection\n",
    "import mmdet\n",
    "print(mmdet.__version__)"
   ]
  },
  {
   "cell_type": "code",
   "execution_count": 8,
   "metadata": {},
   "outputs": [
    {
     "name": "stdout",
     "output_type": "stream",
     "text": [
      "2.1.0\n"
     ]
    }
   ],
   "source": [
    "# Checking the versions of MMPose, MMDetection, and MMCV to ensure compatibility between each other\n",
    "\n",
    "import mmcv\n",
    "print(mmcv.__version__)"
   ]
  },
  {
   "cell_type": "markdown",
   "metadata": {},
   "source": [
    "## Running MMPose based on MotionBERT for Inference on 3D Pose Estimation"
   ]
  },
  {
   "cell_type": "code",
   "execution_count": 10,
   "metadata": {},
   "outputs": [
    {
     "name": "stdout",
     "output_type": "stream",
     "text": [
      "C:\\Users\\impha\\Downloads\\Local Implementation\\mmpose\n"
     ]
    }
   ],
   "source": [
    "%cd C:/Users/impha/Downloads/Local Implementation/mmpose"
   ]
  },
  {
   "cell_type": "code",
   "execution_count": null,
   "metadata": {},
   "outputs": [],
   "source": [
    "# The below code runs a demo script that performs 3D pose estimation on an input video file \n",
    "# using pre-trained models, outputting the visualization results to a specified directory."
   ]
  },
  {
   "cell_type": "code",
   "execution_count": 13,
   "metadata": {},
   "outputs": [
    {
     "name": "stdout",
     "output_type": "stream",
     "text": [
      "Loads checkpoint by http backend from path: https://download.openmmlab.com/mmpose/v1/projects/rtmpose/rtmdet_m_8xb32-100e_coco-obj365-person-235e8209.pth\n",
      "Loads checkpoint by http backend from path: https://download.openmmlab.com/mmpose/v1/projects/rtmposev1/rtmpose-m_simcc-body7_pt-body7_420e-256x192-e48f03d0_20230504.pth\n",
      "Loads checkpoint by http backend from path: https://download.openmmlab.com/mmpose/v1/body_3d_keypoint/pose_lift/h36m/motionbert_ft_h36m-d80af323_20230531.pth\n",
      "05/06 20:27:40 - mmengine - \u001b[4m\u001b[97mINFO\u001b[0m - the output video has been saved at vis_results\\pose.mp4\n"
     ]
    }
   ],
   "source": [
    "!python demo/body3d_pose_lifter_demo.py \\\n",
    "demo/mmdetection_cfg/rtmdet_m_640-8xb32_coco-person.py \\\n",
    "https://download.openmmlab.com/mmpose/v1/projects/rtmpose/rtmdet_m_8xb32-100e_coco-obj365-person-235e8209.pth \\\n",
    "configs/body_2d_keypoint/rtmpose/body8/rtmpose-m_8xb256-420e_body8-256x192.py \\\n",
    "https://download.openmmlab.com/mmpose/v1/projects/rtmposev1/rtmpose-m_simcc-body7_pt-body7_420e-256x192-e48f03d0_20230504.pth \\\n",
    "configs/body_3d_keypoint/motionbert/h36m/motionbert_dstformer-243frm_8xb32-240e_h36m-original.py \\\n",
    "https://download.openmmlab.com/mmpose/v1/body_3d_keypoint/pose_lift/h36m/motionbert_ft_h36m-d80af323_20230531.pth \\\n",
    "--input /pose.mp4 \\\n",
    "--output-root  vis_results"
   ]
  },
  {
   "cell_type": "code",
   "execution_count": null,
   "metadata": {},
   "outputs": [],
   "source": []
  }
 ],
 "metadata": {
  "kernelspec": {
   "display_name": "motionbert-mmpose",
   "language": "python",
   "name": "python3"
  },
  "language_info": {
   "codemirror_mode": {
    "name": "ipython",
    "version": 3
   },
   "file_extension": ".py",
   "mimetype": "text/x-python",
   "name": "python",
   "nbconvert_exporter": "python",
   "pygments_lexer": "ipython3",
   "version": "3.11.9"
  }
 },
 "nbformat": 4,
 "nbformat_minor": 2
}
